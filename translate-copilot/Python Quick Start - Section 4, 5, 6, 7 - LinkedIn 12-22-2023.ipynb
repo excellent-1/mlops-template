{
 "cells": [
  {
   "cell_type": "code",
   "execution_count": 1,
   "id": "209af157",
   "metadata": {},
   "outputs": [
    {
     "name": "stdout",
     "output_type": "stream",
     "text": [
      "7.0\n"
     ]
    }
   ],
   "source": [
    "import math\n",
    "result = math.sqrt(49)\n",
    "print(result)"
   ]
  },
  {
   "cell_type": "code",
   "execution_count": 20,
   "id": "f582dddf",
   "metadata": {},
   "outputs": [],
   "source": [
    "name=\"Brad\""
   ]
  },
  {
   "cell_type": "code",
   "execution_count": 21,
   "id": "2f960068",
   "metadata": {},
   "outputs": [],
   "source": [
    "group = [\"Matthew\", \"Mark\", \"Luke\"]"
   ]
  },
  {
   "cell_type": "code",
   "execution_count": 22,
   "id": "75d6c6a4",
   "metadata": {},
   "outputs": [
    {
     "data": {
      "text/plain": [
       "list"
      ]
     },
     "execution_count": 22,
     "metadata": {},
     "output_type": "execute_result"
    }
   ],
   "source": [
    "type(group)"
   ]
  },
  {
   "cell_type": "code",
   "execution_count": 23,
   "id": "9838b037",
   "metadata": {},
   "outputs": [],
   "source": [
    "n=5"
   ]
  },
  {
   "cell_type": "code",
   "execution_count": 24,
   "id": "db5bc324",
   "metadata": {},
   "outputs": [],
   "source": [
    "list1 = [1,3,5,7,9,11,14,16,18]"
   ]
  },
  {
   "cell_type": "code",
   "execution_count": 25,
   "id": "cebd59eb",
   "metadata": {},
   "outputs": [
    {
     "data": {
      "text/plain": [
       "list"
      ]
     },
     "execution_count": 25,
     "metadata": {},
     "output_type": "execute_result"
    }
   ],
   "source": [
    "type(list1)"
   ]
  },
  {
   "cell_type": "code",
   "execution_count": 26,
   "id": "bb8e37ca",
   "metadata": {},
   "outputs": [
    {
     "name": "stdout",
     "output_type": "stream",
     "text": [
      "1\n",
      "3\n",
      "5\n"
     ]
    }
   ],
   "source": [
    "print(list1[0])\n",
    "print(list1[1])\n",
    "print(list1[2])\n"
   ]
  },
  {
   "cell_type": "code",
   "execution_count": 28,
   "id": "f2a637b5",
   "metadata": {},
   "outputs": [
    {
     "name": "stdout",
     "output_type": "stream",
     "text": [
      "150\n",
      "3\n",
      "5\n",
      "[150, 3, 5, 7, 9, 11, 14, 16, 18]\n"
     ]
    }
   ],
   "source": [
    "list1[0] = 150\n",
    "print(list1[0])\n",
    "print(list1[1])\n",
    "print(list1[2])\n",
    "print(list1)"
   ]
  },
  {
   "cell_type": "code",
   "execution_count": 29,
   "id": "f24188c8",
   "metadata": {},
   "outputs": [
    {
     "name": "stdout",
     "output_type": "stream",
     "text": [
      "[True, 'sonship', 55, 33.3, False, -44.4]\n"
     ]
    }
   ],
   "source": [
    "list2 = [True, \"sonship\", 55, 33.3, False, -44.4]\n",
    "print(list2)"
   ]
  },
  {
   "cell_type": "code",
   "execution_count": 38,
   "id": "e0977b23",
   "metadata": {},
   "outputs": [
    {
     "name": "stdout",
     "output_type": "stream",
     "text": [
      "('Julia', 'Texas Childrens Hospital', 'Fort Worth', 'Texas', 'United States', '05/05/2015', '12:12')\n",
      "('Judah', 'Texas Childrens Hospital', 'Fort Worth', 'Texas', 'United States', '03/03/2023', '23:23')\n",
      "('Joshua', 'Texas Childrens Hospital', 'Fort Worth', 'Texas', 'United States', '02/22/2022', '22:22')\n",
      "Julia\n",
      "Judah\n",
      "Joshua\n"
     ]
    }
   ],
   "source": [
    "tupleBirth1 = (\"Julia\", \"Texas Childrens Hospital\", \"Fort Worth\", \"Texas\", \"United States\", \"05/05/2015\", \"12:12\")\n",
    "tupleBirth2 = (\"Judah\", \"Texas Childrens Hospital\", \"Fort Worth\", \"Texas\", \"United States\", \"03/03/2023\", \"23:23\")\n",
    "tupleBirth3 = (\"Joshua\", \"Texas Childrens Hospital\", \"Fort Worth\", \"Texas\", \"United States\", \"02/22/2022\", \"22:22\")\n",
    "type(tupleBirth1)\n",
    "print(tupleBirth1) \n",
    "print(tupleBirth2) \n",
    "print(tupleBirth3) \n",
    "print(tupleBirth1[0]) \n",
    "print(tupleBirth2[0]) \n",
    "print(tupleBirth3[0]) "
   ]
  },
  {
   "cell_type": "code",
   "execution_count": 39,
   "id": "4caa4775",
   "metadata": {},
   "outputs": [
    {
     "ename": "TypeError",
     "evalue": "'tuple' object does not support item assignment",
     "output_type": "error",
     "traceback": [
      "\u001b[0;31m---------------------------------------------------------------------------\u001b[0m",
      "\u001b[0;31mTypeError\u001b[0m                                 Traceback (most recent call last)",
      "Cell \u001b[0;32mIn[39], line 1\u001b[0m\n\u001b[0;32m----> 1\u001b[0m \u001b[43mtupleBirth1\u001b[49m\u001b[43m[\u001b[49m\u001b[38;5;241;43m0\u001b[39;49m\u001b[43m]\u001b[49m\u001b[38;5;241m=\u001b[39m\u001b[38;5;124m\"\u001b[39m\u001b[38;5;124mJehovah\u001b[39m\u001b[38;5;124m\"\u001b[39m\n",
      "\u001b[0;31mTypeError\u001b[0m: 'tuple' object does not support item assignment"
     ]
    }
   ],
   "source": [
    "tupleBirth1[0]=\"Jehovah\""
   ]
  },
  {
   "cell_type": "code",
   "execution_count": null,
   "id": "2ffe7baf",
   "metadata": {},
   "outputs": [],
   "source": [
    "print(\"SECTION 5\")"
   ]
  },
  {
   "cell_type": "code",
   "execution_count": 41,
   "id": "80465c26",
   "metadata": {},
   "outputs": [
    {
     "name": "stdout",
     "output_type": "stream",
     "text": [
      "Is it raining? (yes/no)yes\n",
      "You need an umbrella!\n"
     ]
    }
   ],
   "source": [
    "raining = input(\"Is it raining? (yes/no)\")\n",
    "if raining == \"yes\":\n",
    "    print(\"You need an umbrella!\")"
   ]
  },
  {
   "cell_type": "code",
   "execution_count": 47,
   "id": "609f23f1",
   "metadata": {},
   "outputs": [
    {
     "name": "stdout",
     "output_type": "stream",
     "text": [
      "Choose an integer between -10 and 10. Enter it here: 7\n",
      "The integer you chose is greater than 5\n"
     ]
    }
   ],
   "source": [
    "n = input(\"Choose an integer between -10 and 10. Enter it here: \")\n",
    "n = int(n)\n",
    "if n < 5:\n",
    "    print(\"The integer you chose is less than 5\")\n",
    "if n == 5:\n",
    "    print(\"The integer you chose is equal to 5\")\n",
    "if n > 5: \n",
    "    print(\"The integer you chose is greater than 5\")"
   ]
  },
  {
   "cell_type": "code",
   "execution_count": 49,
   "id": "8fee71d1",
   "metadata": {},
   "outputs": [],
   "source": [
    "def minimum(x,y):\n",
    "    if x < y:\n",
    "        return x\n",
    "    else:\n",
    "        return y"
   ]
  },
  {
   "cell_type": "code",
   "execution_count": 50,
   "id": "722f8312",
   "metadata": {},
   "outputs": [
    {
     "name": "stdout",
     "output_type": "stream",
     "text": [
      "2\n"
     ]
    }
   ],
   "source": [
    "result = minimum(2,5) # call the function\n",
    "print(result)"
   ]
  },
  {
   "cell_type": "code",
   "execution_count": 51,
   "id": "85a2ba9b",
   "metadata": {},
   "outputs": [
    {
     "name": "stdout",
     "output_type": "stream",
     "text": [
      "Is it raining? (yes/no)yes\n",
      "Do you have an umbrella? (yes/no)yes\n",
      "Don't forget your umbrella when you go out!\n"
     ]
    }
   ],
   "source": [
    "raining = input(\"Is it raining? (yes/no) \")\n",
    "umbrella = input(\"Do you have an umbrella? (yes/no) \")\n",
    "if raining == \"yes\" and umbrella == \"yes\" :\n",
    "    print(\"Don't forget your umbrella when you go out!\")\n",
    "elif raining == \"yes\" and umbrella == \"no\" :\n",
    "    print(\"Wear a waterproof jacket when you go out!\")"
   ]
  },
  {
   "cell_type": "code",
   "execution_count": 54,
   "id": "4f59c159",
   "metadata": {},
   "outputs": [
    {
     "name": "stdout",
     "output_type": "stream",
     "text": [
      "Enter a number here: 1.2\n",
      "The integer you chose is less than 2. \n"
     ]
    }
   ],
   "source": [
    "x = input(\"Enter a number here: \")\n",
    "x = float(x) # To list one print\n",
    "if x < 2:\n",
    "    print(\"The integer you chose is less than 2. \")\n",
    "elif x < 6:\n",
    "    print(\"The integer you chose is less than 6. \")\n",
    "elif x < 8:\n",
    "    print(\"The integer you chose is gless than 8. \")\n",
    "elif x < 10: \n",
    "    print(\"The integer you chose is less than 10. \")\n"
   ]
  },
  {
   "cell_type": "code",
   "execution_count": null,
   "id": "19f0e1fc",
   "metadata": {},
   "outputs": [],
   "source": [
    "x = input(\"Enter a number here: \")\n",
    "x = float(x) # To list all prints that apply\n",
    "if x < 2:\n",
    "    print(\"The integer you chose is less than 2. \")\n",
    "if x < 6:\n",
    "    print(\"The integer you chose is less than 6. \")\n",
    "if x < 8:\n",
    "    print(\"The integer you chose is gless than 8. \")\n",
    "if x < 10: \n",
    "    print(\"The integer you chose is less than 10. \")"
   ]
  },
  {
   "cell_type": "code",
   "execution_count": 55,
   "id": "3d53cd5e",
   "metadata": {},
   "outputs": [],
   "source": [
    "def absVal(num):\n",
    "    if num < 0:\n",
    "        return -num\n",
    "    elif num ==0:\n",
    "        return 0\n",
    "    else:\n",
    "        return num"
   ]
  },
  {
   "cell_type": "code",
   "execution_count": 56,
   "id": "fabd6b12",
   "metadata": {},
   "outputs": [
    {
     "name": "stdout",
     "output_type": "stream",
     "text": [
      "4\n"
     ]
    }
   ],
   "source": [
    "result = absVal(-4)\n",
    "print(result)"
   ]
  },
  {
   "cell_type": "code",
   "execution_count": null,
   "id": "b00cdb57",
   "metadata": {},
   "outputs": [],
   "source": [
    "#What happens inside a program when a conditional statement is used?\n",
    "\n",
    "#The control flows to another part of the program.\n",
    "\n",
    "#Correct\n",
    "\n",
    "#A conditional statement controls the flow of a program by testing whether a specific condition is met.\n",
    "\n",
    "#When is it appropriate to use an if-else statement?\n",
    "\n",
    "#when a condition needs to select between two code blocks\n",
    "\n",
    "#Correct\n",
    "\n",
    "#An `if-else` statement selects between two given code blocks."
   ]
  },
  {
   "cell_type": "code",
   "execution_count": null,
   "id": "f798aa0f",
   "metadata": {},
   "outputs": [],
   "source": [
    "print(\"SECTION 6\")"
   ]
  },
  {
   "cell_type": "code",
   "execution_count": 59,
   "id": "1c15f55e",
   "metadata": {},
   "outputs": [
    {
     "name": "stdout",
     "output_type": "stream",
     "text": [
      "6\n"
     ]
    }
   ],
   "source": [
    "word = \"serendipitous\"\n",
    "vowelCount = 0\n",
    "vowels = [\"a\",\"e\",\"i\",\"o\",\"u\"]\n",
    "for char in word:\n",
    "    if char in vowels:\n",
    "        vowelCount += 1\n",
    "print(vowelCount)"
   ]
  },
  {
   "cell_type": "code",
   "execution_count": 64,
   "id": "b4ef13ea",
   "metadata": {},
   "outputs": [
    {
     "name": "stdout",
     "output_type": "stream",
     "text": [
      "0\n",
      "1\n",
      "2\n",
      "3\n",
      "---------\n",
      "1\n",
      "3\n",
      "5\n",
      "7\n"
     ]
    }
   ],
   "source": [
    "#range(start, stop, step size=1)\n",
    "for i in range(4):\n",
    "    print(i)\n",
    "    \n",
    "print(\"---------\")\n",
    "\n",
    "for i in range(1,8,2):\n",
    "    print(i)"
   ]
  },
  {
   "cell_type": "code",
   "execution_count": 67,
   "id": "8e7643b0",
   "metadata": {},
   "outputs": [
    {
     "name": "stdout",
     "output_type": "stream",
     "text": [
      "5\n",
      "---------\n",
      "a\n",
      "e\n",
      "i\n",
      "o\n",
      "u\n"
     ]
    }
   ],
   "source": [
    "word = \"serendipitous\"\n",
    "vowelCount = 0\n",
    "vowels = [\"a\",\"e\",\"i\",\"o\",\"u\"]\n",
    "length = len(vowels)\n",
    "for char in word:\n",
    "    if char in vowels:\n",
    "        vowelCount += 1\n",
    "print(length)\n",
    "print(\"---------\")\n",
    "i = 0\n",
    "while i < len(vowels):\n",
    "    print(vowels[i])\n",
    "    i += 1"
   ]
  },
  {
   "cell_type": "raw",
   "id": "0bb055ec",
   "metadata": {},
   "source": [
    "Which situation would work best with a for loop?\n",
    "\n",
    "counting from 1 to 100\n",
    "\n",
    "Correct\n",
    "\n",
    "A `for` loop is appropriate when the starting and ending conditions are defined.\n",
    "\n"
   ]
  },
  {
   "cell_type": "code",
   "execution_count": 71,
   "id": "d6bccb29",
   "metadata": {},
   "outputs": [
    {
     "name": "stdout",
     "output_type": "stream",
     "text": [
      "SECTION 7\n"
     ]
    }
   ],
   "source": [
    "print(\"SECTION 7\")"
   ]
  },
  {
   "cell_type": "code",
   "execution_count": 72,
   "id": "13209f6e",
   "metadata": {},
   "outputs": [],
   "source": [
    "def factorialRecursive(n):\n",
    "    \"\"\"Return the factorial of positive integer n.\"\"\"\n",
    "    if n== 1:\n",
    "        return 1\n",
    "    else:\n",
    "        return n * factorialRecursive(n - 1)"
   ]
  },
  {
   "cell_type": "code",
   "execution_count": 73,
   "id": "8e75baba",
   "metadata": {
    "scrolled": true
   },
   "outputs": [
    {
     "name": "stdout",
     "output_type": "stream",
     "text": [
      "120\n"
     ]
    }
   ],
   "source": [
    "result = factorialRecursive(5)\n",
    "print(result)"
   ]
  },
  {
   "cell_type": "code",
   "execution_count": 74,
   "id": "e3282399",
   "metadata": {},
   "outputs": [],
   "source": [
    "def sumOfDigitsRecursive(n):\n",
    "    \"\"\"Return the sum of the digits of positive integer n.\"\"\"\n",
    "    if n < 10:\n",
    "        return n\n",
    "    else:\n",
    "        allButLast = n//10 \n",
    "        # In Python 3.x, 5 / 2 will return 2.5 and 5 // 2 will return 2. The former is floating point division, \n",
    "        # and the latter is floor division, sometimes also called integer division.\n",
    "        # floor division, which basically is division rounded down to the nearest whole number\n",
    "        last = n % 10\n",
    "        return sumOfDigitsRecursive(allButLast) + last"
   ]
  },
  {
   "cell_type": "code",
   "execution_count": 75,
   "id": "068c3637",
   "metadata": {},
   "outputs": [
    {
     "name": "stdout",
     "output_type": "stream",
     "text": [
      "5\n"
     ]
    }
   ],
   "source": [
    "result = sumOfDigitsRecursive(5)\n",
    "print(result)"
   ]
  },
  {
   "cell_type": "code",
   "execution_count": 77,
   "id": "abc0cd79",
   "metadata": {},
   "outputs": [],
   "source": [
    "def fibonacciSequenceRecursive(n):\n",
    "    \"\"\"Return the sum of the number in the Fibonacci sequence.\"\"\"\n",
    "    if n == 1:\n",
    "        return 0\n",
    "    elif n == 2:\n",
    "        return 1\n",
    "    else:\n",
    "        return fibonacciSequenceRecursive(n-1) + fibonacciSequenceRecursive(n-2)"
   ]
  },
  {
   "cell_type": "code",
   "execution_count": 78,
   "id": "14d553a8",
   "metadata": {},
   "outputs": [
    {
     "name": "stdout",
     "output_type": "stream",
     "text": [
      "3\n"
     ]
    }
   ],
   "source": [
    "result = fibonacciSequenceRecursive(5)\n",
    "print(result)"
   ]
  },
  {
   "cell_type": "code",
   "execution_count": 9,
   "id": "5a2bb99c",
   "metadata": {},
   "outputs": [
    {
     "name": "stdout",
     "output_type": "stream",
     "text": [
      "None\n"
     ]
    }
   ],
   "source": [
    "def isPalindromeRecursive(strg):\n",
    "    \"\"\"Return the sum of the number in the Fibonacci sequence.\"\"\"\n",
    "    if len(strg) <= 1:\n",
    "        return True\n",
    "    elif strg == 2:\n",
    "        return strg[0] == strg[-1] and isPalindromeRecursive(strg[1 : -1]) # substring starts with 1st char and ends with 2nd to last char\n",
    "    \n",
    "result = isPalindromeRecursive(\"tsirhcmadamchrist\")\n",
    "print(result)"
   ]
  },
  {
   "cell_type": "code",
   "execution_count": 1,
   "id": "0a48c090",
   "metadata": {},
   "outputs": [
    {
     "name": "stdout",
     "output_type": "stream",
     "text": [
      "Total A Execution Time:  0.0003693103790283203\n",
      "Total B Execution Time:  0.0003509521484375\n",
      "Total C Execution Time:  0.00020003318786621094\n"
     ]
    }
   ],
   "source": [
    "import time\n",
    "\n",
    "#def checkAllPalindromeA(strg):\n",
    "def longReverseWord(word):\n",
    "    reversed = \"\"\n",
    "    for char in word:\n",
    "        reversed = char + reversed # Add the char's in reverse order\n",
    "    return reversed\n",
    "\n",
    "\n",
    "def checkAllPalindromeA(arr):\n",
    "    if arr[0] == longReverseWord(arr[0]):\n",
    "        if arr[0] == longReverseWord(arr[0]):\n",
    "            if arr[0] == longReverseWord(arr[0]):\n",
    "                return True\n",
    "    return False\n",
    "\n",
    "def isPalindrome(word):\n",
    "    return word == longReverseWord(word)\n",
    "\n",
    "def checkAllPalindromeB(arr):\n",
    "    for word in arr:\n",
    "        if isPalindrome(word) == False:\n",
    "            return False\n",
    "    return True\n",
    "\n",
    "def checkAllPalindromeC(arr):\n",
    "    r0 = longReverseWord(arr[0])\n",
    "    r1 = longReverseWord(arr[1])\n",
    "    r2 = longReverseWord(arr[2])\n",
    "    \n",
    "    if arr[0] == r0: return False \n",
    "    if arr[1] == r1: return False \n",
    "    if arr[2] == r2: return False \n",
    "    return True\n",
    "\n",
    "testPalindrome = [\"tsirhcmadamchrist\", \"mom\",\"dad\",\"madam\",\"tntuutnt\"]\n",
    "\n",
    "def test_checkAllPalindromeA():\n",
    "    result = checkAllPalindromeA(testPalindrome)\n",
    "    print(result)\n",
    "def test_checkAllPalindromeB():\n",
    "    result = checkAllPalindromeB(testPalindrome)\n",
    "    print(result)\n",
    "def test_checkAllPalindromeC():\n",
    "    result = checkAllPalindromeC(testPalindrome)\n",
    "    print(result)\n",
    "\n",
    "def timeTest_checkAllPalindromeA():\n",
    "    starttime = time.time()\n",
    "    for i in range(1,100): # Send the same input 100 times\n",
    "        checkAllPalindromeA(testPalindrome)\n",
    "    endtime = time.time()\n",
    "    print(\"Total A Execution Time: \", endtime - starttime)\n",
    "\n",
    "def timeTest_checkAllPalindromeB():\n",
    "    starttime = time.time()\n",
    "    for i in range(1,100): # Send the same input 100 times\n",
    "        checkAllPalindromeB(testPalindrome)\n",
    "    endtime = time.time()\n",
    "    print(\"Total B Execution Time: \", endtime - starttime)\n",
    "\n",
    "def timeTest_checkAllPalindromeC():\n",
    "    starttime = time.time()\n",
    "    for i in range(1,100): # Send the same input 100 times\n",
    "        checkAllPalindromeC(testPalindrome)\n",
    "    endtime = time.time()\n",
    "    print(\"Total C Execution Time: \", endtime - starttime)\n",
    "\n",
    "\n",
    "timeTest_checkAllPalindromeA()\n",
    "timeTest_checkAllPalindromeB()\n",
    "timeTest_checkAllPalindromeC()\n",
    "\n",
    "\n",
    "# Solution A and Solution C both only check the 1st, 2nd and 3rd words of the array.\n",
    "# Solu\n",
    "#Total A Execution Time:  0.0003693103790283203\n",
    "#Total B Execution Time:  0.0003509521484375\n",
    "#Total C Execution Time:  0.00020003318786621094"
   ]
  },
  {
   "cell_type": "code",
   "execution_count": null,
   "id": "a4242b78",
   "metadata": {},
   "outputs": [],
   "source": [
    "print(\"SECTION 8\")"
   ]
  },
  {
   "cell_type": "code",
   "execution_count": 146,
   "id": "e271cdd4",
   "metadata": {},
   "outputs": [],
   "source": [
    "class Angel():\n",
    "    def __init__(self, name, rank):\n",
    "        self.name = name\n",
    "        self.rank = rank\n",
    "\n",
    "    def power(self, name, rank):\n",
    "        if self.rank == 1:\n",
    "            print(self.name , \"'s power is strength and might to prevail in battle.\")\n",
    "        if self.rank == 2:\n",
    "            print(self.name + \"'s power is to deliver important messages.\")\n",
    "        if self.rank == 3:\n",
    "            print(self.name + \"'s power is to teach you in areas where you lack knowledge.\")\n",
    "        if self.rank == 4:\n",
    "            print(self.name + \"'s power is to release miracles through fire.\")\n",
    "        if self.rank == 5:\n",
    "            print(self.name + \"'s power is to give healing in your body soul and spirit.\")\n",
    "        if self.rank == 6:\n",
    "            print(self.name + \"'s power is to give helps in everyday life where needed.\")\n",
    "        if self.rank == 7:\n",
    "            print(self.name + \"'s power is apart of the government structure to keep order.\")\n",
    "\n",
    "class HealerAngel(Angel):\n",
    "    def __int__(self, name, rank, color, count):\n",
    "        self.name = name\n",
    "        self.rank = rank\n",
    "        self.color = color\n",
    "        self.count = count\n",
    "        \n",
    "    def power(self, name, rank, manner=\"gracefully\"):\n",
    "        print(f\"{self.name} is healing in your body soul and spirit {manner}.\")"
   ]
  },
  {
   "cell_type": "code",
   "execution_count": 149,
   "id": "0ec1d445",
   "metadata": {},
   "outputs": [
    {
     "name": "stdout",
     "output_type": "stream",
     "text": [
      "Michael 's power is strength and might to prevail in battle.\n",
      "Gabriel's power is to deliver important messages.\n",
      "Jophiel's power is to teach you in areas where you lack knowledge.\n",
      "Uriel's power is to release miracles through fire.\n",
      "Rafael's power is to give healing in your body soul and spirit.\n",
      "Raforiel is healing in your body soul and spirit gracefully.\n",
      "Chamuel's power is to give helps in everyday life where needed.\n",
      "Zadkiel's power is apart of the government structure to keep order.\n"
     ]
    }
   ],
   "source": [
    "# Michael, Gabriel, Uriel, Chamuel (Camael), Raphael, Jophiel, and Zadkiel\n",
    "michael = Angel(\"Michael\", 1) \n",
    "michael.power(michael.name, michael.rank) \n",
    "gabriel = Angel(\"Gabriel\", 2)\n",
    "gabriel.power(gabriel.name, gabriel.rank) \n",
    "jophiel = Angel(\"Jophiel\", 3)\n",
    "jophiel.power(jophiel.name, jophiel.rank) \n",
    "uriel = Angel(\"Uriel\", 4)\n",
    "uriel.power(uriel.name, uriel.rank) \n",
    "rafael = Angel(\"Rafael\", 5)\n",
    "rafael.power(rafael.name, rafael.rank) \n",
    "healerAngel = HealerAngel(\"Raforiel\", 5)\n",
    "healerAngel.power(healerAngel.name, healerAngel.rank) \n",
    "chamuel = Angel(\"Chamuel\", 6)\n",
    "chamuel.power(chamuel.name, chamuel.rank) \n",
    "zadkiel = Angel(\"Zadkiel\", 7)\n",
    "zadkiel.power(zadkiel.name, zadkiel.rank) "
   ]
  },
  {
   "cell_type": "code",
   "execution_count": 1,
   "id": "553aa4be",
   "metadata": {},
   "outputs": [
    {
     "name": "stdout",
     "output_type": "stream",
     "text": [
      "Total Execution Time:  19.079489707946777\n"
     ]
    }
   ],
   "source": [
    "def isPrime1(n):\n",
    "    \"\"\"Return 'True' if 'n' is a prime number, 'False' otherwise.\"\"\"\n",
    "    if n == 1 :\n",
    "        return False\n",
    "    \n",
    "    for i in range(2, n):\n",
    "        if n % i == 0:\n",
    "            return False\n",
    "    return True\n",
    "\n",
    "def test_isPrime1():\n",
    "    for i in range(1, 1000): # 1*1000 | 2*? | 3*? | 1000 * 1\n",
    "        print(i, isPrime1(i))\n",
    "\n",
    "def timeTest_isPrime1():\n",
    "    import time\n",
    "    starttime = time.time()\n",
    "    for i in range(1, 100000):\n",
    "        isPrime1(i)\n",
    "    endtime = time.time()\n",
    "    print(\"Total Execution Time: \", endtime - starttime)\n",
    "\n",
    "\n",
    "#test_isPrime1()\n",
    "timeTest_isPrime1()"
   ]
  },
  {
   "cell_type": "code",
   "execution_count": 2,
   "id": "4305c7a3",
   "metadata": {},
   "outputs": [
    {
     "name": "stdout",
     "output_type": "stream",
     "text": [
      "Total Execution Time:  19.227043628692627\n",
      "Total Execution Time:  0.22399258613586426\n"
     ]
    }
   ],
   "source": [
    "def isPrime2(n): # Reduce the number of divisors we check in the for loop.\n",
    "    # You only have to test integers up to the SQRT of n\n",
    "    import math\n",
    "    \"\"\"Return 'True' if 'n' is a prime number, 'False' otherwise.\"\"\"\n",
    "    if n == 1 :\n",
    "        return False\n",
    "    \n",
    "    maxDivisor = int(math.sqrt(n)) # This loop goes over all even integers\n",
    "    for i in range(2, maxDivisor + 1): # 1*1000 | 2*? | 3*? | SQRT(n) * SQRT(n)\n",
    "        if n % i == 0:\n",
    "            return False\n",
    "    return True\n",
    "\n",
    "def test_isPrime2():\n",
    "    for i in range(1, 1000): # 1*1000 | 2*? | 3*? | 1000 * 1\n",
    "        print(i, isPrime2(i))\n",
    "\n",
    "def timeTest_isPrime2():\n",
    "    import time\n",
    "    starttime = time.time()\n",
    "    for i in range(1, 100000):\n",
    "        isPrime2(i)\n",
    "    endtime = time.time()\n",
    "    print(\"Total Execution Time: \", endtime - starttime)\n",
    "\n",
    "\n",
    "#test_isPrime2()\n",
    "timeTest_isPrime1()\n",
    "timeTest_isPrime2()"
   ]
  },
  {
   "cell_type": "code",
   "execution_count": 3,
   "id": "832b44c7",
   "metadata": {},
   "outputs": [
    {
     "name": "stdout",
     "output_type": "stream",
     "text": [
      "Total Execution Time:  20.41296935081482\n",
      "Total Execution Time:  0.12995409965515137\n",
      "Total Execution Time:  0.08134007453918457\n"
     ]
    }
   ],
   "source": [
    "def isPrime3(n): \n",
    "    # Reduce the number of divisors we check in the for loop.\n",
    "    # You only have to test integers up to the SQRT of n\n",
    "    import math\n",
    "    \"\"\"Return 'True' if 'n' is a prime number, 'False' otherwise.\"\"\"\n",
    "    if n == 1 :\n",
    "        return False # 1 is not a prime number\n",
    "    #There is no need to go over all even integers in the loop\n",
    "    #So if n is even then test only the odd divisors\n",
    "    #if n is odd then it is a waste to test the even divisors\n",
    "    if n == 2:\n",
    "        return True\n",
    "    if n > 2 and n % 2 == 0: # if n is even but Not 2, \n",
    "        return False\n",
    "    \n",
    "    maxDivisor = math.floor(math.sqrt(n))\n",
    "    # Add a step value of 3 to the range(). This range will begin at 3\n",
    "    # and cover all odd numbers up to our limit of SQRT(n).\n",
    "    for i in range(3, maxDivisor + 1, 2): # 3*1000 | 5*? | 7*? * SQRT(n)\n",
    "        if n % i == 0:\n",
    "            return False\n",
    "    return True\n",
    "\n",
    "def test_isPrime3():\n",
    "    for i in range(1, 1000): # 1*1000 | 2*? | 3*? | 1000 * 1\n",
    "        print(i, isPrime3(i))\n",
    "\n",
    "def timeTest_isPrime3():\n",
    "    import time\n",
    "    starttime = time.time()\n",
    "    for i in range(1, 100000):\n",
    "        isPrime3(i)\n",
    "    endtime = time.time()\n",
    "    print(\"Total Execution Time: \", endtime - starttime)\n",
    "\n",
    "\n",
    "#test_isPrime2()\n",
    "timeTest_isPrime1()\n",
    "timeTest_isPrime2()\n",
    "timeTest_isPrime3()"
   ]
  },
  {
   "cell_type": "code",
   "execution_count": 2,
   "id": "5ab76704",
   "metadata": {},
   "outputs": [
    {
     "name": "stdout",
     "output_type": "stream",
     "text": [
      "Total Execution Time:  0.12433624267578125\n",
      "Total Execution Time:  35.54480457305908\n"
     ]
    }
   ],
   "source": [
    "# Question 2\n",
    "import math\n",
    "def isPrimeA(n): # Reduce the number of divisors we check in the for loop.\n",
    "    #if n == 1 :\n",
    "     #   return False\n",
    "    \n",
    "    maxDivisor = math.floor(math.sqrt(n)) # This loop goes over all even integers\n",
    "    for i in range(2, maxDivisor + 1): # 1*1000 | 2*? | 3*? | SQRT(n) * SQRT(n)\n",
    "        if n % i == 0:\n",
    "            return False\n",
    "    return True\n",
    "\n",
    "def test_isPrimeA():\n",
    "    for i in range(1, 1000): # 1*1000 | 2*? | 3*? | 1000 * 1\n",
    "        print(i, isPrimeA(i))\n",
    "\n",
    "def timeTest_isPrimeA():\n",
    "    import time\n",
    "    starttime = time.time()\n",
    "    for i in range(1, 100000):\n",
    "        isPrimeA(i)\n",
    "    endtime = time.time()\n",
    "    print(\"Total Execution Time: \", endtime - starttime)\n",
    "\n",
    "\n",
    "def isPrimeB(n): \n",
    "    arrayOfFactors = list(range(2, n-1)) # Convert to list to avoid TypeError: 'range' object doesn't support item deletion del arrayOfFactors[i]\n",
    "    #print(arrayOfFactors)\n",
    "    for index, factor in enumerate(arrayOfFactors) :\n",
    "        #print(index, factor)\n",
    "        if n % (index+1) != 0:\n",
    "            #del arrayOfFactors[index] # remove i from factors\n",
    "            arrayOfFactors.remove(factor) #The `remove()` method is used to remove the first occurrence of a specified value from the list.\n",
    "    if arrayOfFactors.count != 0:\n",
    "        return False\n",
    "\n",
    "    return True # 1 is not a prime number\n",
    "\n",
    "def test_isPrimeB():\n",
    "    for i in range(1, 1000): # 1*1000 | 2*? | 3*? | 1000 * 1\n",
    "        print(i, isPrimeB(i))\n",
    "\n",
    "def timeTest_isPrimeB():\n",
    "    import time\n",
    "    starttime = time.time()\n",
    "    for i in range(1, 100000):\n",
    "        isPrimeB(i)\n",
    "    endtime = time.time()\n",
    "    print(\"Total Execution Time: \", endtime - starttime)\n",
    "\n",
    "\n",
    "\n",
    "def isPrimeC(n): # Reduce the number of divisors we check in the for loop.\n",
    "    for i in range(1, n):\n",
    "        if i!= 1 and i!= n and n % i == 0:\n",
    "            return False\n",
    "    return True\n",
    "\n",
    "def test_isPrimeC():\n",
    "    for i in range(1, 1000): # 1*1000 | 2*? | 3*? | 1000 * 1\n",
    "        print(i, isPrimeC(i))\n",
    "\n",
    "def timeTest_isPrimeC():\n",
    "    import time\n",
    "    starttime = time.time()\n",
    "    for i in range(1, 100000):\n",
    "        isPrimeC(i)\n",
    "    endtime = time.time()\n",
    "    print(\"Total Execution Time: \", endtime - starttime)\n",
    "\n",
    "#test_isPrime2()\n",
    "#timeTest_isPrime2()\n",
    "timeTest_isPrimeA()\n",
    "\n",
    "#timeTest_isPrime3()\n",
    "#timeTest_isPrimeB()\n",
    "\n",
    "#timeTest_isPrime1()\n",
    "timeTest_isPrimeC()\n",
    "\n",
    "# Function A took 0.12 seconds to process 100,000  \n",
    "# C 34.43 | B Many Minutes\n",
    "#Function A came in first place taking 0.12 seconds to process a list 100000 numbers.  \n",
    "#Function C came in second place taking 31.7 seconds to process a list 100000 numbers.  \n",
    "#Function B came in last place, taking several minutes before I stopped the execution of the 100000 number test."
   ]
  },
  {
   "cell_type": "code",
   "execution_count": null,
   "id": "6ab0c77a",
   "metadata": {},
   "outputs": [],
   "source": [
    "# 3) \"Given an input integer n, create a while loop that utilizes arithmetic to store the frequency \n",
    "# of each digit present in n in a dictionary frequency_map. The input number n will be provided as a numeric data type, \n",
    "# not a string. For each loop iteration, you must update frequency_map before reducing n.\"\n",
    "def arithmeticDigitFrequencyMap(n):\n",
    "    frequencyMap = dict()\n",
    "    while n > 0:\n",
    "        digit = n % 10\n",
    "        if digit not in frequencyMap:\n",
    "            frequencyMap[digit] = 1\n",
    "        else:\n",
    "            frequencyMap[digit] += 1\n",
    "        n = n // 10"
   ]
  },
  {
   "cell_type": "code",
   "execution_count": null,
   "id": "47f13586",
   "metadata": {},
   "outputs": [],
   "source": [
    "#Question 4) I like answer A better to be given to most people, but answer B is also a valid response \n",
    "#especially for people who are in the field of ethical hacking, and cybersecurity.\n"
   ]
  },
  {
   "cell_type": "code",
   "execution_count": null,
   "id": "7cfcce0f",
   "metadata": {},
   "outputs": [],
   "source": [
    "'''Question 5)\n",
    "#User Prompt\n",
    "#I need a function called decode(message_file) that can read in an encoded message from a .txt file \n",
    "#and return the decoded version as a string.\n",
    "\n",
    "#Here's an example of what the message_file .txt file will look like:\n",
    "3 love\n",
    "6 computers\n",
    "2 dogs\n",
    "4 cats\n",
    "1 I\n",
    "5 you\n",
    "As you can see, each word is associated with a number. Imagine you ordered all those numbers from smallest to biggest \n",
    "and arranged them into a pyramid. Each line of the pyramid includes one more number than the line before it:\n",
    "1\n",
    "2 3\n",
    "4 5 6\n",
    "The numbers at the end of each line (1, 3 and 6) correspond to the words that are part of the message. \n",
    "You should ignore all the other words. So for the example input file above, the message words are:\n",
    "1: I\n",
    "3: love\n",
    "6: computers\n",
    "and your function should return the string \"I love computers\"\n",
    "#Please provide your AI response to the user's prompt in this text area. Remember to include the full code and a text explanation of \n",
    "#what it does in your AI reply. Please try to structure your reply as if it were an AI responding to the user's prompt.\n",
    "\n",
    "An example of how a current-day AI might reply to a user's coding request: https://drive.google.com/file/d/1C9qwcyleZ5IlhJxnhDDNv_ixA6QB1aLE/view?usp=sharing\n",
    "\n",
    "To verify that your code works, please download this input file and use your function to decode the message \n",
    "(this file was recently updated; your file should begin with 296 land).\n",
    "\n",
    "Paste the decoded message in the box below, in all lowercase with no punctuation or leading/trailing whitespace \n",
    "around the word sequence (necessary for automated text matching). Note: The message may or may not be a coherent sentence.\n",
    "\n",
    "So for the example in the user prompt, you'd paste 'i love computers' without the quotes.\n",
    "'''"
   ]
  },
  {
   "cell_type": "code",
   "execution_count": null,
   "id": "38d3c44c",
   "metadata": {},
   "outputs": [],
   "source": [
    "import csv\n",
    "with open('coding_qual_input.txt', mode='r') as csvfile:\n",
    "    reader = csv.reader(csvfile)\n",
    "    dataDictionary = {}\n",
    "\n",
    "    for row in reader:\n",
    "        key = row[0]\n",
    "        dataDictionary[key] = row[1]"
   ]
  },
  {
   "cell_type": "code",
   "execution_count": 16,
   "id": "8fefd78d",
   "metadata": {},
   "outputs": [
    {
     "name": "stdout",
     "output_type": "stream",
     "text": [
      "300\n",
      "Row= 1 newStart= 0 newEnd= 0\n",
      "opposite\n",
      "Row= 2 newStart= 1 newEnd= 2\n",
      ">>> opposite,>>> machine,Row= 3 newStart= 3 newEnd= 5\n",
      ">>> sun,>>> indicate,>>> experiment,Row= 4 newStart= 6 newEnd= 9\n",
      ">>> rain,>>> less,>>> lot,>>> cause,Row= 5 newStart= 10 newEnd= 14\n",
      ">>> think,>>> each,>>> of,>>> system,>>> blow,Row= 6 newStart= 15 newEnd= 20\n",
      ">>> ocean,>>> duck,>>> about,>>> farm,>>> open,>>> morning,Row= 7 newStart= 21 newEnd= 27\n",
      ">>> to,>>> major,>>> like,>>> hole,>>> third,>>> material,>>> idea,Row= 8 newStart= 28 newEnd= 35\n",
      ">>> winter,>>> dad,>>> brown,>>> first,>>> section,>>> blood,>>> field,>>> come,Row= 9 newStart= 36 newEnd= 44\n",
      ">>> wild,>>> bread,>>> us,>>> strong,>>> select,>>> probable,>>> skin,>>> current,>>> parent,Row= 10 newStart= 45 newEnd= 54\n",
      ">>> it,>>> town,>>> hill,>>> solve,>>> now,>>> his,>>> require,>>> single,>>> chick,>>> men,Row= 11 newStart= 55 newEnd= 65\n",
      ">>> ready,>>> cent,>>> level,>>> skill,>>> east,>>> chart,>>> current,>>> discuss,>>> offer,>>> beat,>>> good,Row= 12 newStart= 66 newEnd= 77\n",
      ">>> buy,>>> neighbor,>>> all,>>> cold,>>> where,>>> quotient,>>> are,>>> out,>>> modern,>>> live,>>> sat,>>> her,Row= 13 newStart= 78 newEnd= 90\n",
      ">>> card,>>> with,>>> speed,>>> noun,>>> insect,>>> power,>>> object,>>> fire,>>> discuss,>>> child,>>> sister,>>> band,>>> dry,Row= 14 newStart= 91 newEnd= 104\n",
      ">>> possible,>>> center,>>> element,>>> show,>>> hold,>>> capital,>>> modern,>>> true,>>> coast,>>> touch,>>> the,>>> stop,>>> kind,>>> thus,Row= 15 newStart= 105 newEnd= 119\n",
      ">>> would,>>> got,>>> prove,>>> group,>>> deal,>>> visit,>>> complete,>>> glad,>>> student,>>> kind,>>> poem,>>> plain,>>> stop,>>> best,>>> wrote,Row= 16 newStart= 120 newEnd= 135\n",
      ">>> electric,>>> drink,>>> offer,>>> happen,>>> over,>>> back,>>> milk,>>> check,>>> people,>>> happen,>>> organ,>>> include,>>> force,>>> corn,>>> thus,>>> history,Row= 17 newStart= 136 newEnd= 152\n",
      ">>> stay,>>> fire,>>> does,>>> young,>>> guide,>>> protect,>>> company,>>> begin,>>> dry,>>> wait,>>> glass,>>> field,>>> repeat,>>> possible,>>> slave,>>> suit,>>> lady,Row= 18 newStart= 153 newEnd= 170\n",
      ">>> post,>>> tone,>>> seat,>>> brown,>>> play,>>> planet,>>> work,>>> any,>>> though,>>> sand,>>> nor,>>> organ,>>> cook,>>> case,>>> touch,>>> mile,>>> wait,>>> down,Row= 19 newStart= 171 newEnd= 189\n",
      ">>> paragraph,>>> column,>>> feel,>>> trade,>>> big,>>> triangle,>>> close,>>> wish,>>> or,>>> better,>>> ease,>>> bit,>>> prepare,>>> they,>>> indicate,>>> oil,>>> written,>>> yard,>>> ball,Row= 20 newStart= 190 newEnd= 209\n",
      ">>> produce,>>> always,>>> moment,>>> prepare,>>> over,>>> clock,>>> hit,>>> huge,>>> print,>>> fire,>>> meant,>>> term,>>> fair,>>> speak,>>> answer,>>> area,>>> copy,>>> way,>>> fact,>>> oxygen,Row= 21 newStart= 210 newEnd= 230\n",
      ">>> state,>>> cool,>>> company,>>> remember,>>> especially,>>> together,>>> too,>>> done,>>> time,>>> ease,>>> people,>>> observe,>>> gun,>>> present,>>> prepare,>>> like,>>> song,>>> stead,>>> share,>>> pitch,>>> before,Row= 22 newStart= 231 newEnd= 252\n",
      ">>> our,>>> toward,>>> clothe,>>> silver,>>> friend,>>> am,>>> dont,>>> compare,>>> enough,>>> instant,>>> finger,>>> middle,>>> object,>>> cost,>>> class,>>> am,>>> planet,>>> are,>>> such,>>> speech,>>> sugar,>>> jump,Row= 23 newStart= 253 newEnd= 275\n",
      ">>> compare,>>> produce,>>> necessary,>>> straight,>>> come,>>> design,>>> grand,>>> chick,>>> colony,>>> hurry,>>> bought,>>> bird,>>> against,>>> fire,>>> ball,>>> he,>>> low,>>> man,>>> card,>>> major,>>> whole,>>> check,>>> past,Row= 24 newStart= 276 newEnd= 299\n",
      ">>> touch,>>> heavy,>>> nine,>>> reach,>>> make,>>> we,>>> example,>>> remember,>>> felt,>>> general,>>> office,>>> above,>>> happen,>>> money,>>> felt,>>> band,>>> dog,>>> excite,>>> temperature,>>> produce,>>> land,>>> select,>>> moment,>>> crease,Row= 25 newStart= 300 newEnd= 324\n",
      ">>> possible,Row= 26 newStart= 325 newEnd= 350\n",
      "Row= 27 newStart= 351 newEnd= 377\n",
      "Row= 28 newStart= 378 newEnd= 405\n",
      "Row= 29 newStart= 406 newEnd= 434\n",
      "Row= 30 newStart= 435 newEnd= 464\n",
      "Row= 31 newStart= 465 newEnd= 495\n",
      "Row= 32 newStart= 496 newEnd= 527\n",
      "Row= 33 newStart= 528 newEnd= 560\n",
      "Row= 34 newStart= 561 newEnd= 594\n",
      "Row= 35 newStart= 595 newEnd= 629\n",
      "Row= 36 newStart= 630 newEnd= 665\n",
      "Row= 37 newStart= 666 newEnd= 702\n",
      "Row= 38 newStart= 703 newEnd= 740\n",
      "Row= 39 newStart= 741 newEnd= 779\n",
      "Row= 40 newStart= 780 newEnd= 819\n",
      "Row= 41 newStart= 820 newEnd= 860\n",
      "Row= 42 newStart= 861 newEnd= 902\n",
      "Row= 43 newStart= 903 newEnd= 945\n",
      "Row= 44 newStart= 946 newEnd= 989\n",
      "Row= 45 newStart= 990 newEnd= 1034\n",
      "Row= 46 newStart= 1035 newEnd= 1080\n",
      "Row= 47 newStart= 1081 newEnd= 1127\n",
      "Row= 48 newStart= 1128 newEnd= 1175\n",
      "Row= 49 newStart= 1176 newEnd= 1224\n",
      "Row= 50 newStart= 1225 newEnd= 1274\n",
      "Row= 51 newStart= 1275 newEnd= 1325\n",
      "Row= 52 newStart= 1326 newEnd= 1377\n",
      "Row= 53 newStart= 1378 newEnd= 1430\n",
      "Row= 54 newStart= 1431 newEnd= 1484\n",
      "Row= 55 newStart= 1485 newEnd= 1539\n",
      "Row= 56 newStart= 1540 newEnd= 1595\n",
      "Row= 57 newStart= 1596 newEnd= 1652\n",
      "Row= 58 newStart= 1653 newEnd= 1710\n",
      "Row= 59 newStart= 1711 newEnd= 1769\n",
      "Row= 60 newStart= 1770 newEnd= 1829\n",
      "Row= 61 newStart= 1830 newEnd= 1890\n",
      "Row= 62 newStart= 1891 newEnd= 1952\n",
      "Row= 63 newStart= 1953 newEnd= 2015\n",
      "Row= 64 newStart= 2016 newEnd= 2079\n",
      "Row= 65 newStart= 2080 newEnd= 2144\n",
      "Row= 66 newStart= 2145 newEnd= 2210\n",
      "Row= 67 newStart= 2211 newEnd= 2277\n",
      "Row= 68 newStart= 2278 newEnd= 2345\n",
      "Row= 69 newStart= 2346 newEnd= 2414\n",
      "Row= 70 newStart= 2415 newEnd= 2484\n",
      "Row= 71 newStart= 2485 newEnd= 2555\n",
      "Row= 72 newStart= 2556 newEnd= 2627\n",
      "Row= 73 newStart= 2628 newEnd= 2700\n",
      "Row= 74 newStart= 2701 newEnd= 2774\n",
      "Row= 75 newStart= 2775 newEnd= 2849\n",
      "Row= 76 newStart= 2850 newEnd= 2925\n",
      "Row= 77 newStart= 2926 newEnd= 3002\n",
      "Row= 78 newStart= 3003 newEnd= 3080\n",
      "Row= 79 newStart= 3081 newEnd= 3159\n",
      "Row= 80 newStart= 3160 newEnd= 3239\n",
      "Row= 81 newStart= 3240 newEnd= 3320\n",
      "Row= 82 newStart= 3321 newEnd= 3402\n",
      "Row= 83 newStart= 3403 newEnd= 3485\n",
      "Row= 84 newStart= 3486 newEnd= 3569\n",
      "Row= 85 newStart= 3570 newEnd= 3654\n",
      "Row= 86 newStart= 3655 newEnd= 3740\n",
      "Row= 87 newStart= 3741 newEnd= 3827\n",
      "Row= 88 newStart= 3828 newEnd= 3915\n",
      "Row= 89 newStart= 3916 newEnd= 4004\n",
      "Row= 90 newStart= 4005 newEnd= 4094\n",
      "Row= 91 newStart= 4095 newEnd= 4185\n",
      "Row= 92 newStart= 4186 newEnd= 4277\n",
      "Row= 93 newStart= 4278 newEnd= 4370\n",
      "Row= 94 newStart= 4371 newEnd= 4464\n",
      "Row= 95 newStart= 4465 newEnd= 4559\n",
      "Row= 96 newStart= 4560 newEnd= 4655\n",
      "Row= 97 newStart= 4656 newEnd= 4752\n",
      "Row= 98 newStart= 4753 newEnd= 4850\n",
      "Row= 99 newStart= 4851 newEnd= 4949\n",
      "Row= 100 newStart= 4950 newEnd= 5049\n",
      "Row= 101 newStart= 5050 newEnd= 5150\n",
      "Row= 102 newStart= 5151 newEnd= 5252\n",
      "Row= 103 newStart= 5253 newEnd= 5355\n",
      "Row= 104 newStart= 5356 newEnd= 5459\n",
      "Row= 105 newStart= 5460 newEnd= 5564\n",
      "Row= 106 newStart= 5565 newEnd= 5670\n",
      "Row= 107 newStart= 5671 newEnd= 5777\n",
      "Row= 108 newStart= 5778 newEnd= 5885\n",
      "Row= 109 newStart= 5886 newEnd= 5994\n",
      "Row= 110 newStart= 5995 newEnd= 6104\n",
      "Row= 111 newStart= 6105 newEnd= 6215\n",
      "Row= 112 newStart= 6216 newEnd= 6327\n",
      "Row= 113 newStart= 6328 newEnd= 6440\n",
      "Row= 114 newStart= 6441 newEnd= 6554\n",
      "Row= 115 newStart= 6555 newEnd= 6669\n",
      "Row= 116 newStart= 6670 newEnd= 6785\n",
      "Row= 117 newStart= 6786 newEnd= 6902\n",
      "Row= 118 newStart= 6903 newEnd= 7020\n",
      "Row= 119 newStart= 7021 newEnd= 7139\n",
      "Row= 120 newStart= 7140 newEnd= 7259\n",
      "Row= 121 newStart= 7260 newEnd= 7380\n",
      "Row= 122 newStart= 7381 newEnd= 7502\n",
      "Row= 123 newStart= 7503 newEnd= 7625\n",
      "Row= 124 newStart= 7626 newEnd= 7749\n",
      "Row= 125 newStart= 7750 newEnd= 7874\n",
      "Row= 126 newStart= 7875 newEnd= 8000\n",
      "Row= 127 newStart= 8001 newEnd= 8127\n",
      "Row= 128 newStart= 8128 newEnd= 8255\n",
      "Row= 129 newStart= 8256 newEnd= 8384\n",
      "Row= 130 newStart= 8385 newEnd= 8514\n",
      "Row= 131 newStart= 8515 newEnd= 8645\n",
      "Row= 132 newStart= 8646 newEnd= 8777\n",
      "Row= 133 newStart= 8778 newEnd= 8910\n",
      "Row= 134 newStart= 8911 newEnd= 9044\n",
      "Row= 135 newStart= 9045 newEnd= 9179\n",
      "Row= 136 newStart= 9180 newEnd= 9315\n",
      "Row= 137 newStart= 9316 newEnd= 9452\n",
      "Row= 138 newStart= 9453 newEnd= 9590\n",
      "Row= 139 newStart= 9591 newEnd= 9729\n",
      "Row= 140 newStart= 9730 newEnd= 9869\n",
      "Row= 141 newStart= 9870 newEnd= 10010\n",
      "Row= 142 newStart= 10011 newEnd= 10152\n",
      "Row= 143 newStart= 10153 newEnd= 10295\n",
      "Row= 144 newStart= 10296 newEnd= 10439\n",
      "Row= 145 newStart= 10440 newEnd= 10584\n",
      "Row= 146 newStart= 10585 newEnd= 10730\n",
      "Row= 147 newStart= 10731 newEnd= 10877\n",
      "Row= 148 newStart= 10878 newEnd= 11025\n",
      "Row= 149 newStart= 11026 newEnd= 11174\n",
      "Row= 150 newStart= 11175 newEnd= 11324\n",
      "Row= 151 newStart= 11325 newEnd= 11475\n",
      "Row= 152 newStart= 11476 newEnd= 11627\n",
      "Row= 153 newStart= 11628 newEnd= 11780\n",
      "Row= 154 newStart= 11781 newEnd= 11934\n",
      "Row= 155 newStart= 11935 newEnd= 12089\n",
      "Row= 156 newStart= 12090 newEnd= 12245\n",
      "Row= 157 newStart= 12246 newEnd= 12402\n",
      "Row= 158 newStart= 12403 newEnd= 12560\n",
      "Row= 159 newStart= 12561 newEnd= 12719\n",
      "Row= 160 newStart= 12720 newEnd= 12879\n",
      "Row= 161 newStart= 12880 newEnd= 13040\n",
      "Row= 162 newStart= 13041 newEnd= 13202\n",
      "Row= 163 newStart= 13203 newEnd= 13365\n",
      "Row= 164 newStart= 13366 newEnd= 13529\n",
      "Row= 165 newStart= 13530 newEnd= 13694\n",
      "Row= 166 newStart= 13695 newEnd= 13860\n",
      "Row= 167 newStart= 13861 newEnd= 14027\n",
      "Row= 168 newStart= 14028 newEnd= 14195\n",
      "Row= 169 newStart= 14196 newEnd= 14364\n",
      "Row= 170 newStart= 14365 newEnd= 14534\n",
      "Row= 171 newStart= 14535 newEnd= 14705\n",
      "Row= 172 newStart= 14706 newEnd= 14877\n",
      "Row= 173 newStart= 14878 newEnd= 15050\n",
      "Row= 174 newStart= 15051 newEnd= 15224\n",
      "Row= 175 newStart= 15225 newEnd= 15399\n",
      "Row= 176 newStart= 15400 newEnd= 15575\n",
      "Row= 177 newStart= 15576 newEnd= 15752\n",
      "Row= 178 newStart= 15753 newEnd= 15930\n",
      "Row= 179 newStart= 15931 newEnd= 16109\n",
      "Row= 180 newStart= 16110 newEnd= 16289\n",
      "Row= 181 newStart= 16290 newEnd= 16470\n",
      "Row= 182 newStart= 16471 newEnd= 16652\n",
      "Row= 183 newStart= 16653 newEnd= 16835\n",
      "Row= 184 newStart= 16836 newEnd= 17019\n",
      "Row= 185 newStart= 17020 newEnd= 17204\n",
      "Row= 186 newStart= 17205 newEnd= 17390\n",
      "Row= 187 newStart= 17391 newEnd= 17577\n",
      "Row= 188 newStart= 17578 newEnd= 17765\n",
      "Row= 189 newStart= 17766 newEnd= 17954\n",
      "Row= 190 newStart= 17955 newEnd= 18144\n",
      "Row= 191 newStart= 18145 newEnd= 18335\n",
      "Row= 192 newStart= 18336 newEnd= 18527\n",
      "Row= 193 newStart= 18528 newEnd= 18720\n",
      "Row= 194 newStart= 18721 newEnd= 18914\n",
      "Row= 195 newStart= 18915 newEnd= 19109\n",
      "Row= 196 newStart= 19110 newEnd= 19305\n",
      "Row= 197 newStart= 19306 newEnd= 19502\n",
      "Row= 198 newStart= 19503 newEnd= 19700\n",
      "Row= 199 newStart= 19701 newEnd= 19899\n",
      "Row= 200 newStart= 19900 newEnd= 20099\n",
      "Row= 201 newStart= 20100 newEnd= 20300\n",
      "Row= 202 newStart= 20301 newEnd= 20502\n",
      "Row= 203 newStart= 20503 newEnd= 20705\n",
      "Row= 204 newStart= 20706 newEnd= 20909\n",
      "Row= 205 newStart= 20910 newEnd= 21114\n",
      "Row= 206 newStart= 21115 newEnd= 21320\n",
      "Row= 207 newStart= 21321 newEnd= 21527\n",
      "Row= 208 newStart= 21528 newEnd= 21735\n",
      "Row= 209 newStart= 21736 newEnd= 21944\n",
      "Row= 210 newStart= 21945 newEnd= 22154\n",
      "Row= 211 newStart= 22155 newEnd= 22365\n",
      "Row= 212 newStart= 22366 newEnd= 22577\n",
      "Row= 213 newStart= 22578 newEnd= 22790\n",
      "Row= 214 newStart= 22791 newEnd= 23004\n",
      "Row= 215 newStart= 23005 newEnd= 23219\n",
      "Row= 216 newStart= 23220 newEnd= 23435\n",
      "Row= 217 newStart= 23436 newEnd= 23652\n",
      "Row= 218 newStart= 23653 newEnd= 23870\n",
      "Row= 219 newStart= 23871 newEnd= 24089\n",
      "Row= 220 newStart= 24090 newEnd= 24309\n",
      "Row= 221 newStart= 24310 newEnd= 24530\n",
      "Row= 222 newStart= 24531 newEnd= 24752\n",
      "Row= 223 newStart= 24753 newEnd= 24975\n",
      "Row= 224 newStart= 24976 newEnd= 25199\n",
      "Row= 225 newStart= 25200 newEnd= 25424\n",
      "Row= 226 newStart= 25425 newEnd= 25650\n",
      "Row= 227 newStart= 25651 newEnd= 25877\n",
      "Row= 228 newStart= 25878 newEnd= 26105\n",
      "Row= 229 newStart= 26106 newEnd= 26334\n",
      "Row= 230 newStart= 26335 newEnd= 26564\n",
      "Row= 231 newStart= 26565 newEnd= 26795\n",
      "Row= 232 newStart= 26796 newEnd= 27027\n",
      "Row= 233 newStart= 27028 newEnd= 27260\n",
      "Row= 234 newStart= 27261 newEnd= 27494\n",
      "Row= 235 newStart= 27495 newEnd= 27729\n",
      "Row= 236 newStart= 27730 newEnd= 27965\n",
      "Row= 237 newStart= 27966 newEnd= 28202\n",
      "Row= 238 newStart= 28203 newEnd= 28440\n",
      "Row= 239 newStart= 28441 newEnd= 28679\n",
      "Row= 240 newStart= 28680 newEnd= 28919\n",
      "Row= 241 newStart= 28920 newEnd= 29160\n",
      "Row= 242 newStart= 29161 newEnd= 29402\n",
      "Row= 243 newStart= 29403 newEnd= 29645\n",
      "Row= 244 newStart= 29646 newEnd= 29889\n",
      "Row= 245 newStart= 29890 newEnd= 30134\n",
      "Row= 246 newStart= 30135 newEnd= 30380\n",
      "Row= 247 newStart= 30381 newEnd= 30627\n",
      "Row= 248 newStart= 30628 newEnd= 30875\n",
      "Row= 249 newStart= 30876 newEnd= 31124\n",
      "Row= 250 newStart= 31125 newEnd= 31374\n",
      "Row= 251 newStart= 31375 newEnd= 31625\n",
      "Row= 252 newStart= 31626 newEnd= 31877\n",
      "Row= 253 newStart= 31878 newEnd= 32130\n",
      "Row= 254 newStart= 32131 newEnd= 32384\n",
      "Row= 255 newStart= 32385 newEnd= 32639\n",
      "Row= 256 newStart= 32640 newEnd= 32895\n",
      "Row= 257 newStart= 32896 newEnd= 33152\n",
      "Row= 258 newStart= 33153 newEnd= 33410\n",
      "Row= 259 newStart= 33411 newEnd= 33669\n",
      "Row= 260 newStart= 33670 newEnd= 33929\n",
      "Row= 261 newStart= 33930 newEnd= 34190\n",
      "Row= 262 newStart= 34191 newEnd= 34452\n",
      "Row= 263 newStart= 34453 newEnd= 34715\n",
      "Row= 264 newStart= 34716 newEnd= 34979\n",
      "Row= 265 newStart= 34980 newEnd= 35244\n",
      "Row= 266 newStart= 35245 newEnd= 35510\n",
      "Row= 267 newStart= 35511 newEnd= 35777\n",
      "Row= 268 newStart= 35778 newEnd= 36045\n",
      "Row= 269 newStart= 36046 newEnd= 36314\n",
      "Row= 270 newStart= 36315 newEnd= 36584\n",
      "Row= 271 newStart= 36585 newEnd= 36855\n",
      "Row= 272 newStart= 36856 newEnd= 37127\n",
      "Row= 273 newStart= 37128 newEnd= 37400\n",
      "Row= 274 newStart= 37401 newEnd= 37674\n",
      "Row= 275 newStart= 37675 newEnd= 37949\n",
      "Row= 276 newStart= 37950 newEnd= 38225\n",
      "Row= 277 newStart= 38226 newEnd= 38502\n",
      "Row= 278 newStart= 38503 newEnd= 38780\n",
      "Row= 279 newStart= 38781 newEnd= 39059\n",
      "Row= 280 newStart= 39060 newEnd= 39339\n",
      "Row= 281 newStart= 39340 newEnd= 39620\n",
      "Row= 282 newStart= 39621 newEnd= 39902\n",
      "Row= 283 newStart= 39903 newEnd= 40185\n",
      "Row= 284 newStart= 40186 newEnd= 40469\n",
      "Row= 285 newStart= 40470 newEnd= 40754\n",
      "Row= 286 newStart= 40755 newEnd= 41040\n",
      "Row= 287 newStart= 41041 newEnd= 41327\n",
      "Row= 288 newStart= 41328 newEnd= 41615\n",
      "Row= 289 newStart= 41616 newEnd= 41904\n",
      "Row= 290 newStart= 41905 newEnd= 42194\n",
      "Row= 291 newStart= 42195 newEnd= 42485\n",
      "Row= 292 newStart= 42486 newEnd= 42777\n",
      "Row= 293 newStart= 42778 newEnd= 43070\n",
      "Row= 294 newStart= 43071 newEnd= 43364\n",
      "Row= 295 newStart= 43365 newEnd= 43659\n",
      "Row= 296 newStart= 43660 newEnd= 43955\n",
      "Row= 297 newStart= 43956 newEnd= 44252\n",
      "Row= 298 newStart= 44253 newEnd= 44550\n",
      "Row= 299 newStart= 44551 newEnd= 44849\n"
     ]
    }
   ],
   "source": [
    "import itertools\n",
    "\n",
    "inputFileReader = open('coding_qual_input.txt', \"r\").readlines()  \n",
    "\n",
    "def grabNextRow(originalDictionary:dict, start:int, end:int):\n",
    "    listOfKeys = dict( # islice(iterable, stop) --> islice object islice(iterable, start, stop[, step]) --> islice object\n",
    "        itertools.islice(originalDictionary.items(), start, end) #If start is specified, will skip all preceding elements; otherwise, start defaults to zero.\n",
    "    ) #Step defaults to one. If specified as another value, step determines how many values are skipped between successive calls.\n",
    "    #subsetDictionary = dict( map(lambda value: (key, originalDictionary.get(key,None)), listOfKeys))\n",
    "    subsetDictionary = {key: val for key in (listOfKeys) if (val := originalDictionary.get(key))}\n",
    "    for item in subsetDictionary:\n",
    "        print('>>>', subsetDictionary[item], end=\",\")# print(f\"{item}\")\n",
    "    #for key in sorted(subsetDictionary):\n",
    "    #    print(f\"{key}\")\n",
    "    #return end + 1 # This will be the newStart for next call\n",
    "\n",
    "def printPyramid(originalDictionary: dict):\n",
    "    count:int = len(originalDictionary)\n",
    "    print(count)\n",
    "    newStart:int = 0\n",
    "    newEnd:int = 0\n",
    "    for row in range(1,count):\n",
    "        #print('Row=',row)\n",
    "        #print(originalDictionary[row] ) \n",
    "        if(row == 1):\n",
    "            newStart = row-1 \n",
    "            newEnd = row-1\n",
    "            print('Row=',row, 'newStart=', newStart, 'newEnd=', newEnd)\n",
    "            print(originalDictionary[row])\n",
    "            #grabNextRow(originalDictionary, newStart, newEnd)\n",
    "        #elif(row == 2):\n",
    "            #newStart = row-1 \n",
    "        #    newEnd = newStart + row-1\n",
    "            #print(newStart, newEnd)\n",
    "        #    print('Row=',row, 'newStart=', newStart, 'newEnd=', newEnd)\n",
    "        #    grabNextRow(originalDictionary, newStart, newEnd)\n",
    "        else:\n",
    "            #newStart = row-1 \n",
    "            newEnd = newStart + row-1\n",
    "            #print(newStart, newEnd)\n",
    "            print('Row=',row, 'newStart=', newStart, 'newEnd=', newEnd)\n",
    "            grabNextRow(originalDictionary, newStart-1, newEnd)\n",
    "            #newStart = row + row -1 # 2nd row === 2nd,3rd items | 3rd row === 4th,5th,6th items\n",
    "        newStart = newEnd + 1\n",
    "    #for index, record in dictionary:\n",
    "        #TODO for the next each row#, grab the next \n",
    "\n",
    "def decodeFile(inputFileReader):\n",
    "    messageDictionary = dict()\n",
    "    for record in inputFileReader:\n",
    "        row = record.lower().split(' ')\n",
    "        #print(row[0], \" | \", row[1].replace('\\n', '')) # remove \\n \n",
    "        key:int  = int( row[0] )\n",
    "        value:str = str(row[1].replace('\\n', '') ) # remove \\n  ///////and whitespaces\n",
    "        messageDictionary[key] = value\n",
    "        #print(key, value)\n",
    "        #print(messageDictionary[key])\n",
    "    sortedDictionary = dict(sorted(messageDictionary.items()))\n",
    "    printPyramid(sortedDictionary) # Sorted the Dictionary before sending it to print\n",
    "\n",
    "originalDictionary = decodeFile(inputFileReader)\n",
    "\n"
   ]
  },
  {
   "cell_type": "code",
   "execution_count": null,
   "id": "51249624",
   "metadata": {},
   "outputs": [],
   "source": []
  },
  {
   "cell_type": "code",
   "execution_count": null,
   "id": "1d3280bb",
   "metadata": {},
   "outputs": [],
   "source": []
  },
  {
   "cell_type": "code",
   "execution_count": null,
   "id": "5c8f8554",
   "metadata": {},
   "outputs": [],
   "source": []
  },
  {
   "cell_type": "code",
   "execution_count": null,
   "id": "26eddee4",
   "metadata": {},
   "outputs": [],
   "source": []
  },
  {
   "cell_type": "code",
   "execution_count": null,
   "id": "f0505c19",
   "metadata": {},
   "outputs": [],
   "source": []
  }
 ],
 "metadata": {
  "kernelspec": {
   "display_name": "venv",
   "language": "python",
   "name": "python3"
  },
  "language_info": {
   "codemirror_mode": {
    "name": "ipython",
    "version": 3
   },
   "file_extension": ".py",
   "mimetype": "text/x-python",
   "name": "python",
   "nbconvert_exporter": "python",
   "pygments_lexer": "ipython3",
   "version": "3.8.10"
  }
 },
 "nbformat": 4,
 "nbformat_minor": 5
}
