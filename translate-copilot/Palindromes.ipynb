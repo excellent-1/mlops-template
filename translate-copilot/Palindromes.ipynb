{
 "cells": [
  {
   "cell_type": "code",
   "execution_count": 15,
   "metadata": {},
   "outputs": [],
   "source": [
    "def isPalindromeRecursive(strg):\n",
    "    \"\"\"Return the sum of the number in the Fibonacci sequence.\"\"\"\n",
    "    if len(strg) <= 1:\n",
    "        return True\n",
    "    elif len(strg) == 2:\n",
    "        return strg[0] == strg[-1] and isPalindromeRecursive(strg[1 : -1]) # substring starts with 1st char and ends with 2nd to"
   ]
  },
  {
   "cell_type": "code",
   "execution_count": 16,
   "metadata": {},
   "outputs": [
    {
     "name": "stdout",
     "output_type": "stream",
     "text": [
      "None\n"
     ]
    }
   ],
   "source": [
    "result = isPalindromeRecursive(\"dadmadamdad\")\n",
    "print(result)"
   ]
  },
  {
   "cell_type": "code",
   "execution_count": 35,
   "metadata": {},
   "outputs": [],
   "source": [
    "def checkAllPalindromes(arr):  # This is the best solution because it checks all palindromes in an array.\n",
    "    for word in arr:\n",
    "        if not isPalindrome(word):\n",
    "            return False\n",
    "        \n",
    "    return True\n",
    "\n",
    "def isPalindrome(word):\n",
    "    print(word)\n",
    "    return word == shortReverse(word) #word[::-1]\n",
    "\n",
    "def longReverse(word):\n",
    "    reversed = \"\"\n",
    "    for char in word:\n",
    "        reversed = char + reversed #add char in reverse order\n",
    "    return  reversed\n",
    "\n",
    "def shortReverse(word):\n",
    "    return word[::-1]"
   ]
  },
  {
   "cell_type": "code",
   "execution_count": 36,
   "metadata": {},
   "outputs": [
    {
     "name": "stdout",
     "output_type": "stream",
     "text": [
      "wewtntwew\n",
      "dad\n",
      "madam\n",
      "ppdadpp\n",
      "True\n"
     ]
    }
   ],
   "source": [
    "result = checkAllPalindromes([\"wewtntwew\", \"dad\", \"madam\", \"ppdadpp\"])\n",
    "print(result)"
   ]
  },
  {
   "cell_type": "code",
   "execution_count": 23,
   "metadata": {},
   "outputs": [],
   "source": [
    "def checkAllPalindromesDumb1(arr): # Problem is this is a dumb solution because it only checks the first three words of the array\n",
    "    if arr[0] == longReverse(arr[0]):\n",
    "        if arr[1] == longReverse(arr[1]):\n",
    "            if arr[2] == longReverse(arr[2]):\n",
    "                return True\n",
    "        \n",
    "    return False\n",
    "\n",
    "def longReverse(word):\n",
    "    print(word)\n",
    "    reversed = \"\"\n",
    "    for char in word:\n",
    "        reversed = char + reversed #add char in reverse order\n",
    "    return  reversed"
   ]
  },
  {
   "cell_type": "code",
   "execution_count": 24,
   "metadata": {},
   "outputs": [
    {
     "name": "stdout",
     "output_type": "stream",
     "text": [
      "mom\n",
      "dad\n",
      "madam\n",
      "True\n"
     ]
    }
   ],
   "source": [
    "result = checkAllPalindromesDumb1([\"mom\", \"dad\", \"madam\", \"ppdadpp\"])\n",
    "print(result)"
   ]
  },
  {
   "cell_type": "code",
   "execution_count": 25,
   "metadata": {},
   "outputs": [],
   "source": [
    "def checkAllPalindromesDumb3(arr): # This is a dumb solution because it only checks the first three words of the array\n",
    "    r0 = longReverse(arr[0])\n",
    "    r1 = longReverse(arr[1])\n",
    "    r2 = longReverse(arr[2])\n",
    "    \n",
    "    if arr[0] != r0:\n",
    "        return False\n",
    "    if arr[1] != r1:\n",
    "        return False\n",
    "    if arr[2]!= r2:\n",
    "        return False\n",
    "        \n",
    "    return True\n",
    "\n",
    "def longReverse(word):\n",
    "    print(word)\n",
    "    reversed = \"\"\n",
    "    for char in word:\n",
    "        reversed = char + reversed #add char in reverse order\n",
    "    return  reversed"
   ]
  },
  {
   "cell_type": "code",
   "execution_count": 26,
   "metadata": {},
   "outputs": [
    {
     "name": "stdout",
     "output_type": "stream",
     "text": [
      "mom\n",
      "dad\n",
      "madam\n",
      "True\n"
     ]
    }
   ],
   "source": [
    "result = checkAllPalindromesDumb1([\"mom\", \"dad\", \"madam\", \"ppdadpp\"])\n",
    "print(result)"
   ]
  },
  {
   "cell_type": "code",
   "execution_count": null,
   "metadata": {},
   "outputs": [],
   "source": []
  },
  {
   "cell_type": "code",
   "execution_count": null,
   "metadata": {},
   "outputs": [],
   "source": []
  }
 ],
 "metadata": {
  "kernelspec": {
   "display_name": "venv",
   "language": "python",
   "name": "python3"
  },
  "language_info": {
   "codemirror_mode": {
    "name": "ipython",
    "version": 3
   },
   "file_extension": ".py",
   "mimetype": "text/x-python",
   "name": "python",
   "nbconvert_exporter": "python",
   "pygments_lexer": "ipython3",
   "version": "3.8.10"
  }
 },
 "nbformat": 4,
 "nbformat_minor": 2
}
